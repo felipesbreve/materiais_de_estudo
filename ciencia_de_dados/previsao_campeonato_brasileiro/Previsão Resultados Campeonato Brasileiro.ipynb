{
 "cells": [
  {
   "cell_type": "markdown",
   "id": "f3567c3f",
   "metadata": {},
   "source": [
    "Importando as bibliotecas"
   ]
  },
  {
   "cell_type": "code",
   "execution_count": 1,
   "id": "1e71b630",
   "metadata": {},
   "outputs": [],
   "source": [
    "import pandas as pd\n",
    "import numpy as np\n",
    "import seaborn as sns\n",
    "import matplotlib.pyplot as plt\n",
    "from sklearn.linear_model import LogisticRegression\n",
    "from sklearn.tree import DecisionTreeClassifier\n",
    "from sklearn.naive_bayes import GaussianNB\n",
    "from sklearn.svm import SVC\n",
    "from sklearn.metrics import accuracy_score, f1_score, precision_score, recall_score\n",
    "from sklearn.feature_selection import SelectKBest\n",
    "from sklearn.model_selection import GridSearchCV\n",
    "from sklearn.preprocessing import StandardScaler, MinMaxScaler\n",
    "from sklearn.preprocessing import scale\n",
    "from IPython.display import display\n",
    "%matplotlib inline"
   ]
  },
  {
   "cell_type": "markdown",
   "id": "5e133100",
   "metadata": {},
   "source": [
    "## Importando os dados"
   ]
  },
  {
   "cell_type": "markdown",
   "id": "df307905",
   "metadata": {},
   "source": [
    "Lendo o arquivo BRAS.csv\n",
    "O arquivo utilizado foi obtido do site football-data.co.uk."
   ]
  },
  {
   "cell_type": "code",
   "execution_count": 2,
   "id": "dce3b517",
   "metadata": {},
   "outputs": [],
   "source": [
    "data = pd.read_csv('data/BRA.csv', delimiter = ',')"
   ]
  },
  {
   "cell_type": "markdown",
   "id": "12a8ebe3",
   "metadata": {},
   "source": [
    "verificando o head da tabela"
   ]
  },
  {
   "cell_type": "markdown",
   "id": "bceb7c36",
   "metadata": {},
   "source": [
    "**Legenda**"
   ]
  },
  {
   "cell_type": "markdown",
   "id": "df41ff4d",
   "metadata": {},
   "source": [
    "* Country = País do Campeonato\n",
    "* League = Nome da Liga\n",
    "* Game_id = Id do jogo\n",
    "* Season = Temporada\n",
    "* Date = Data do jogo\n",
    "* Time = Hora do jogo\n",
    "* Home = Time da casa\n",
    "* Home_id = Id do time da casa\n",
    "* Away = Time visitante\n",
    "* Away_id = Id do time visitante\n",
    "* HG = Gols do time da casa\n",
    "* AG = Gols do time visitante\n",
    "* Res = Resultado do jogo (D = Draw, H = Home win, A = Away win)\n",
    "* PH = Probabilidade de vitória do time da casa provida pela Pinacle (casa de aposta inglesa)\n",
    "* PD = Probabilidade de empate provida pela Pinacle (casa de aposta inglesa)\n",
    "* PA = Probabilidade de vitória do time visitante provida pela Pinacle (casa de aposta inglesa)\n",
    "* MaxH = Probabilidade de vitória do time da casa provida pela OddsPortal (casa de aposta inglesa)\n",
    "* MaxD = Probabilidade de empate provida pela OddsPortal (casa de aposta inglesa)\n",
    "* MaxA = Probabilidade de vitória do time visitante provida pela OddsPortal (casa de aposta inglesa)\n",
    "* AvgH = Probabilidade média de vitória do time da casa provida pela OddsPortal (casa de aposta inglesa)\n",
    "* AvgD = Probabilidade média de empate provida pela OddsPortal (casa de aposta inglesa)\n",
    "* AvgA = Probabilidade média de vitória do time visitante provida pela OddsPortal (casa de aposta inglesa)"
   ]
  },
  {
   "cell_type": "code",
   "execution_count": 7,
   "id": "dc980d35",
   "metadata": {},
   "outputs": [
    {
     "data": {
      "text/html": [
       "<div>\n",
       "<style scoped>\n",
       "    .dataframe tbody tr th:only-of-type {\n",
       "        vertical-align: middle;\n",
       "    }\n",
       "\n",
       "    .dataframe tbody tr th {\n",
       "        vertical-align: top;\n",
       "    }\n",
       "\n",
       "    .dataframe thead th {\n",
       "        text-align: right;\n",
       "    }\n",
       "</style>\n",
       "<table border=\"1\" class=\"dataframe\">\n",
       "  <thead>\n",
       "    <tr style=\"text-align: right;\">\n",
       "      <th></th>\n",
       "      <th>Country</th>\n",
       "      <th>League</th>\n",
       "      <th>Season</th>\n",
       "      <th>Date</th>\n",
       "      <th>Time</th>\n",
       "      <th>Home</th>\n",
       "      <th>Away</th>\n",
       "      <th>HG</th>\n",
       "      <th>AG</th>\n",
       "      <th>Res</th>\n",
       "      <th>PH</th>\n",
       "      <th>PD</th>\n",
       "      <th>PA</th>\n",
       "      <th>MaxH</th>\n",
       "      <th>MaxD</th>\n",
       "      <th>MaxA</th>\n",
       "      <th>AvgH</th>\n",
       "      <th>AvgD</th>\n",
       "      <th>AvgA</th>\n",
       "    </tr>\n",
       "  </thead>\n",
       "  <tbody>\n",
       "    <tr>\n",
       "      <th>0</th>\n",
       "      <td>Brazil</td>\n",
       "      <td>Serie A</td>\n",
       "      <td>2012</td>\n",
       "      <td>19/05/2012</td>\n",
       "      <td>22:30</td>\n",
       "      <td>Palmeiras</td>\n",
       "      <td>Portuguesa</td>\n",
       "      <td>1.0</td>\n",
       "      <td>1.0</td>\n",
       "      <td>D</td>\n",
       "      <td>1.75</td>\n",
       "      <td>3.86</td>\n",
       "      <td>5.25</td>\n",
       "      <td>1.76</td>\n",
       "      <td>3.87</td>\n",
       "      <td>5.31</td>\n",
       "      <td>1.69</td>\n",
       "      <td>3.50</td>\n",
       "      <td>4.90</td>\n",
       "    </tr>\n",
       "    <tr>\n",
       "      <th>1</th>\n",
       "      <td>Brazil</td>\n",
       "      <td>Serie A</td>\n",
       "      <td>2012</td>\n",
       "      <td>19/05/2012</td>\n",
       "      <td>22:30</td>\n",
       "      <td>Sport Recife</td>\n",
       "      <td>Flamengo RJ</td>\n",
       "      <td>1.0</td>\n",
       "      <td>1.0</td>\n",
       "      <td>D</td>\n",
       "      <td>2.83</td>\n",
       "      <td>3.39</td>\n",
       "      <td>2.68</td>\n",
       "      <td>2.83</td>\n",
       "      <td>3.42</td>\n",
       "      <td>2.70</td>\n",
       "      <td>2.59</td>\n",
       "      <td>3.23</td>\n",
       "      <td>2.58</td>\n",
       "    </tr>\n",
       "    <tr>\n",
       "      <th>2</th>\n",
       "      <td>Brazil</td>\n",
       "      <td>Serie A</td>\n",
       "      <td>2012</td>\n",
       "      <td>20/05/2012</td>\n",
       "      <td>01:00</td>\n",
       "      <td>Figueirense</td>\n",
       "      <td>Nautico</td>\n",
       "      <td>2.0</td>\n",
       "      <td>1.0</td>\n",
       "      <td>H</td>\n",
       "      <td>1.60</td>\n",
       "      <td>4.04</td>\n",
       "      <td>6.72</td>\n",
       "      <td>1.67</td>\n",
       "      <td>4.05</td>\n",
       "      <td>7.22</td>\n",
       "      <td>1.59</td>\n",
       "      <td>3.67</td>\n",
       "      <td>5.64</td>\n",
       "    </tr>\n",
       "    <tr>\n",
       "      <th>3</th>\n",
       "      <td>Brazil</td>\n",
       "      <td>Serie A</td>\n",
       "      <td>2012</td>\n",
       "      <td>20/05/2012</td>\n",
       "      <td>20:00</td>\n",
       "      <td>Botafogo RJ</td>\n",
       "      <td>Sao Paulo</td>\n",
       "      <td>4.0</td>\n",
       "      <td>2.0</td>\n",
       "      <td>H</td>\n",
       "      <td>2.49</td>\n",
       "      <td>3.35</td>\n",
       "      <td>3.15</td>\n",
       "      <td>2.49</td>\n",
       "      <td>3.39</td>\n",
       "      <td>3.15</td>\n",
       "      <td>2.35</td>\n",
       "      <td>3.26</td>\n",
       "      <td>2.84</td>\n",
       "    </tr>\n",
       "    <tr>\n",
       "      <th>4</th>\n",
       "      <td>Brazil</td>\n",
       "      <td>Serie A</td>\n",
       "      <td>2012</td>\n",
       "      <td>20/05/2012</td>\n",
       "      <td>20:00</td>\n",
       "      <td>Corinthians</td>\n",
       "      <td>Fluminense</td>\n",
       "      <td>0.0</td>\n",
       "      <td>1.0</td>\n",
       "      <td>A</td>\n",
       "      <td>1.96</td>\n",
       "      <td>3.53</td>\n",
       "      <td>4.41</td>\n",
       "      <td>1.96</td>\n",
       "      <td>3.53</td>\n",
       "      <td>4.41</td>\n",
       "      <td>1.89</td>\n",
       "      <td>3.33</td>\n",
       "      <td>3.89</td>\n",
       "    </tr>\n",
       "  </tbody>\n",
       "</table>\n",
       "</div>"
      ],
      "text/plain": [
       "  Country   League  Season        Date   Time          Home         Away   HG  \\\n",
       "0  Brazil  Serie A    2012  19/05/2012  22:30     Palmeiras   Portuguesa  1.0   \n",
       "1  Brazil  Serie A    2012  19/05/2012  22:30  Sport Recife  Flamengo RJ  1.0   \n",
       "2  Brazil  Serie A    2012  20/05/2012  01:00   Figueirense      Nautico  2.0   \n",
       "3  Brazil  Serie A    2012  20/05/2012  20:00   Botafogo RJ    Sao Paulo  4.0   \n",
       "4  Brazil  Serie A    2012  20/05/2012  20:00   Corinthians   Fluminense  0.0   \n",
       "\n",
       "    AG Res    PH    PD    PA  MaxH  MaxD  MaxA  AvgH  AvgD  AvgA  \n",
       "0  1.0   D  1.75  3.86  5.25  1.76  3.87  5.31  1.69  3.50  4.90  \n",
       "1  1.0   D  2.83  3.39  2.68  2.83  3.42  2.70  2.59  3.23  2.58  \n",
       "2  1.0   H  1.60  4.04  6.72  1.67  4.05  7.22  1.59  3.67  5.64  \n",
       "3  2.0   H  2.49  3.35  3.15  2.49  3.39  3.15  2.35  3.26  2.84  \n",
       "4  1.0   A  1.96  3.53  4.41  1.96  3.53  4.41  1.89  3.33  3.89  "
      ]
     },
     "metadata": {},
     "output_type": "display_data"
    }
   ],
   "source": [
    "display(data.head())"
   ]
  },
  {
   "cell_type": "markdown",
   "id": "bcef8867",
   "metadata": {},
   "source": [
    "## Explorando os dados"
   ]
  },
  {
   "cell_type": "code",
   "execution_count": 10,
   "id": "ff865945",
   "metadata": {},
   "outputs": [
    {
     "name": "stdout",
     "output_type": "stream",
     "text": [
      "Total de jogos:  3624\n",
      "Total de colunas:  18\n",
      "Total de jogos ganhos em casa:  1765\n",
      "Total de jogos ganhos fora de casa:  882\n",
      "Total de jogos empatados:  976\n",
      "Percentual de jogos ganhos em casa: 48.705%\n"
     ]
    }
   ],
   "source": [
    "matches = data.shape[0]\n",
    "features = data.shape[1] - 1 #Desconsiderando a coluna 'resultados'\n",
    "\n",
    "home_win = len(data[data.Res == 'H'])\n",
    "away_win = len(data[data.Res == 'A'])\n",
    "draw = len(data[data.Res == 'D'])\n",
    "val = [home_win, away_win, draw]\n",
    "\n",
    "win_rate = (float(home_win) / (matches)) * 100\n",
    "\n",
    "print('Total de jogos: ', matches)\n",
    "print('Total de colunas: ', features)\n",
    "print('Total de jogos ganhos em casa: ', home_win)\n",
    "print('Total de jogos ganhos fora de casa: ', away_win)\n",
    "print('Total de jogos empatados: ', draw)\n",
    "print('Percentual de jogos ganhos em casa: {:.2f}5%'.format(win_rate))"
   ]
  },
  {
   "cell_type": "markdown",
   "id": "cafb99e9",
   "metadata": {},
   "source": [
    "* Nota-se que o \"fator casa\" é relevante pois quase 50% dos jogos são ganhos pelo time mandante"
   ]
  },
  {
   "cell_type": "code",
   "execution_count": 12,
   "id": "d5f61f44",
   "metadata": {},
   "outputs": [
    {
     "data": {
      "image/png": "[encoded data removed]",
      "text/plain": [
       "<Figure size 432x288 with 1 Axes>"
      ]
     },
     "metadata": {
      "needs_background": "light"
     },
     "output_type": "display_data"
    }
   ],
   "source": [
    "x = np.arange(3)\n",
    "plt.bar(x, val)\n",
    "plt.xticks(x, ('Home', 'Away', 'Draw'))\n",
    "plt.show()"
   ]
  },
  {
   "cell_type": "markdown",
   "id": "bed8b9be",
   "metadata": {},
   "source": [
    "##  Preparando os dados"
   ]
  },
  {
   "cell_type": "markdown",
   "id": "b188925a",
   "metadata": {},
   "source": [
    "Atribuir ao campo 'resultado' valores numericos\n",
    "* H = 1\n",
    "* A = 2\n",
    "* D = 0"
   ]
  },
  {
   "cell_type": "code",
   "execution_count": 15,
   "id": "cd714f52",
   "metadata": {},
   "outputs": [],
   "source": [
    "data.Res.replace({'H': 1, 'D': 0, 'A': 2}, inplace = True)"
   ]
  },
  {
   "cell_type": "code",
   "execution_count": 18,
   "id": "04ba94df",
   "metadata": {},
   "outputs": [
    {
     "name": "stdout",
     "output_type": "stream",
     "text": [
      "<class 'pandas.core.frame.DataFrame'>\n",
      "RangeIndex: 3624 entries, 0 to 3623\n",
      "Data columns (total 19 columns):\n",
      " #   Column   Non-Null Count  Dtype  \n",
      "---  ------   --------------  -----  \n",
      " 0   Country  3624 non-null   object \n",
      " 1   League   3624 non-null   object \n",
      " 2   Season   3624 non-null   int64  \n",
      " 3   Date     3624 non-null   object \n",
      " 4   Time     3624 non-null   object \n",
      " 5   Home     3624 non-null   object \n",
      " 6   Away     3624 non-null   object \n",
      " 7   HG       3623 non-null   float64\n",
      " 8   AG       3623 non-null   float64\n",
      " 9   Res      3623 non-null   float64\n",
      " 10  PH       3623 non-null   float64\n",
      " 11  PD       3623 non-null   float64\n",
      " 12  PA       3623 non-null   float64\n",
      " 13  MaxH     3624 non-null   float64\n",
      " 14  MaxD     3624 non-null   float64\n",
      " 15  MaxA     3624 non-null   float64\n",
      " 16  AvgH     3624 non-null   float64\n",
      " 17  AvgD     3624 non-null   float64\n",
      " 18  AvgA     3624 non-null   float64\n",
      "dtypes: float64(12), int64(1), object(6)\n",
      "memory usage: 538.1+ KB\n"
     ]
    }
   ],
   "source": [
    "data.info()"
   ]
  },
  {
   "cell_type": "code",
   "execution_count": 28,
   "id": "867f7093",
   "metadata": {},
   "outputs": [
    {
     "data": {
      "text/plain": [
       "Country    0\n",
       "League     0\n",
       "Season     0\n",
       "Date       0\n",
       "Time       0\n",
       "Home       0\n",
       "Away       0\n",
       "HG         1\n",
       "AG         1\n",
       "Res        1\n",
       "PH         1\n",
       "PD         1\n",
       "PA         1\n",
       "MaxH       0\n",
       "MaxD       0\n",
       "MaxA       0\n",
       "AvgH       0\n",
       "AvgD       0\n",
       "AvgA       0\n",
       "dtype: int64"
      ]
     },
     "execution_count": 28,
     "metadata": {},
     "output_type": "execute_result"
    }
   ],
   "source": [
    "data.isna().sum()"
   ]
  },
  {
   "cell_type": "code",
   "execution_count": 29,
   "id": "5e74c1b4",
   "metadata": {},
   "outputs": [],
   "source": [
    "data.dropna(inplace = True)"
   ]
  },
  {
   "cell_type": "code",
   "execution_count": 30,
   "id": "1534f0c3",
   "metadata": {},
   "outputs": [
    {
     "data": {
      "text/plain": [
       "Country    0\n",
       "League     0\n",
       "Season     0\n",
       "Date       0\n",
       "Time       0\n",
       "Home       0\n",
       "Away       0\n",
       "HG         0\n",
       "AG         0\n",
       "Res        0\n",
       "PH         0\n",
       "PD         0\n",
       "PA         0\n",
       "MaxH       0\n",
       "MaxD       0\n",
       "MaxA       0\n",
       "AvgH       0\n",
       "AvgD       0\n",
       "AvgA       0\n",
       "dtype: int64"
      ]
     },
     "execution_count": 30,
     "metadata": {},
     "output_type": "execute_result"
    }
   ],
   "source": [
    "data.isna().sum()"
   ]
  },
  {
   "cell_type": "code",
   "execution_count": 54,
   "id": "d01e3b5d",
   "metadata": {},
   "outputs": [],
   "source": [
    "data.Res = data.Res.astype('int64')"
   ]
  },
  {
   "cell_type": "code",
   "execution_count": 55,
   "id": "428d1bbf",
   "metadata": {},
   "outputs": [
    {
     "name": "stdout",
     "output_type": "stream",
     "text": [
      "<class 'pandas.core.frame.DataFrame'>\n",
      "Int64Index: 3623 entries, 0 to 3623\n",
      "Data columns (total 19 columns):\n",
      " #   Column   Non-Null Count  Dtype  \n",
      "---  ------   --------------  -----  \n",
      " 0   Country  3623 non-null   object \n",
      " 1   League   3623 non-null   object \n",
      " 2   Season   3623 non-null   int64  \n",
      " 3   Date     3623 non-null   object \n",
      " 4   Time     3623 non-null   object \n",
      " 5   Home     3623 non-null   object \n",
      " 6   Away     3623 non-null   object \n",
      " 7   HG       3623 non-null   float64\n",
      " 8   AG       3623 non-null   float64\n",
      " 9   Res      3623 non-null   int64  \n",
      " 10  PH       3623 non-null   float64\n",
      " 11  PD       3623 non-null   float64\n",
      " 12  PA       3623 non-null   float64\n",
      " 13  MaxH     3623 non-null   float64\n",
      " 14  MaxD     3623 non-null   float64\n",
      " 15  MaxA     3623 non-null   float64\n",
      " 16  AvgH     3623 non-null   float64\n",
      " 17  AvgD     3623 non-null   float64\n",
      " 18  AvgA     3623 non-null   float64\n",
      "dtypes: float64(11), int64(2), object(6)\n",
      "memory usage: 566.1+ KB\n"
     ]
    }
   ],
   "source": [
    "data.info()"
   ]
  },
  {
   "cell_type": "code",
   "execution_count": 56,
   "id": "e8dead6d",
   "metadata": {},
   "outputs": [
    {
     "data": {
      "text/html": [
       "<div>\n",
       "<style scoped>\n",
       "    .dataframe tbody tr th:only-of-type {\n",
       "        vertical-align: middle;\n",
       "    }\n",
       "\n",
       "    .dataframe tbody tr th {\n",
       "        vertical-align: top;\n",
       "    }\n",
       "\n",
       "    .dataframe thead th {\n",
       "        text-align: right;\n",
       "    }\n",
       "</style>\n",
       "<table border=\"1\" class=\"dataframe\">\n",
       "  <thead>\n",
       "    <tr style=\"text-align: right;\">\n",
       "      <th></th>\n",
       "      <th>Country</th>\n",
       "      <th>League</th>\n",
       "      <th>Season</th>\n",
       "      <th>Date</th>\n",
       "      <th>Time</th>\n",
       "      <th>Home</th>\n",
       "      <th>Away</th>\n",
       "      <th>HG</th>\n",
       "      <th>AG</th>\n",
       "      <th>Res</th>\n",
       "      <th>PH</th>\n",
       "      <th>PD</th>\n",
       "      <th>PA</th>\n",
       "      <th>MaxH</th>\n",
       "      <th>MaxD</th>\n",
       "      <th>MaxA</th>\n",
       "      <th>AvgH</th>\n",
       "      <th>AvgD</th>\n",
       "      <th>AvgA</th>\n",
       "    </tr>\n",
       "  </thead>\n",
       "  <tbody>\n",
       "    <tr>\n",
       "      <th>0</th>\n",
       "      <td>Brazil</td>\n",
       "      <td>Serie A</td>\n",
       "      <td>2012</td>\n",
       "      <td>19/05/2012</td>\n",
       "      <td>22:30</td>\n",
       "      <td>Palmeiras</td>\n",
       "      <td>Portuguesa</td>\n",
       "      <td>1.0</td>\n",
       "      <td>1.0</td>\n",
       "      <td>0</td>\n",
       "      <td>1.75</td>\n",
       "      <td>3.86</td>\n",
       "      <td>5.25</td>\n",
       "      <td>1.76</td>\n",
       "      <td>3.87</td>\n",
       "      <td>5.31</td>\n",
       "      <td>1.69</td>\n",
       "      <td>3.50</td>\n",
       "      <td>4.90</td>\n",
       "    </tr>\n",
       "    <tr>\n",
       "      <th>1</th>\n",
       "      <td>Brazil</td>\n",
       "      <td>Serie A</td>\n",
       "      <td>2012</td>\n",
       "      <td>19/05/2012</td>\n",
       "      <td>22:30</td>\n",
       "      <td>Sport Recife</td>\n",
       "      <td>Flamengo RJ</td>\n",
       "      <td>1.0</td>\n",
       "      <td>1.0</td>\n",
       "      <td>0</td>\n",
       "      <td>2.83</td>\n",
       "      <td>3.39</td>\n",
       "      <td>2.68</td>\n",
       "      <td>2.83</td>\n",
       "      <td>3.42</td>\n",
       "      <td>2.70</td>\n",
       "      <td>2.59</td>\n",
       "      <td>3.23</td>\n",
       "      <td>2.58</td>\n",
       "    </tr>\n",
       "    <tr>\n",
       "      <th>2</th>\n",
       "      <td>Brazil</td>\n",
       "      <td>Serie A</td>\n",
       "      <td>2012</td>\n",
       "      <td>20/05/2012</td>\n",
       "      <td>01:00</td>\n",
       "      <td>Figueirense</td>\n",
       "      <td>Nautico</td>\n",
       "      <td>2.0</td>\n",
       "      <td>1.0</td>\n",
       "      <td>1</td>\n",
       "      <td>1.60</td>\n",
       "      <td>4.04</td>\n",
       "      <td>6.72</td>\n",
       "      <td>1.67</td>\n",
       "      <td>4.05</td>\n",
       "      <td>7.22</td>\n",
       "      <td>1.59</td>\n",
       "      <td>3.67</td>\n",
       "      <td>5.64</td>\n",
       "    </tr>\n",
       "    <tr>\n",
       "      <th>3</th>\n",
       "      <td>Brazil</td>\n",
       "      <td>Serie A</td>\n",
       "      <td>2012</td>\n",
       "      <td>20/05/2012</td>\n",
       "      <td>20:00</td>\n",
       "      <td>Botafogo RJ</td>\n",
       "      <td>Sao Paulo</td>\n",
       "      <td>4.0</td>\n",
       "      <td>2.0</td>\n",
       "      <td>1</td>\n",
       "      <td>2.49</td>\n",
       "      <td>3.35</td>\n",
       "      <td>3.15</td>\n",
       "      <td>2.49</td>\n",
       "      <td>3.39</td>\n",
       "      <td>3.15</td>\n",
       "      <td>2.35</td>\n",
       "      <td>3.26</td>\n",
       "      <td>2.84</td>\n",
       "    </tr>\n",
       "    <tr>\n",
       "      <th>4</th>\n",
       "      <td>Brazil</td>\n",
       "      <td>Serie A</td>\n",
       "      <td>2012</td>\n",
       "      <td>20/05/2012</td>\n",
       "      <td>20:00</td>\n",
       "      <td>Corinthians</td>\n",
       "      <td>Fluminense</td>\n",
       "      <td>0.0</td>\n",
       "      <td>1.0</td>\n",
       "      <td>2</td>\n",
       "      <td>1.96</td>\n",
       "      <td>3.53</td>\n",
       "      <td>4.41</td>\n",
       "      <td>1.96</td>\n",
       "      <td>3.53</td>\n",
       "      <td>4.41</td>\n",
       "      <td>1.89</td>\n",
       "      <td>3.33</td>\n",
       "      <td>3.89</td>\n",
       "    </tr>\n",
       "  </tbody>\n",
       "</table>\n",
       "</div>"
      ],
      "text/plain": [
       "  Country   League  Season        Date   Time          Home         Away   HG  \\\n",
       "0  Brazil  Serie A    2012  19/05/2012  22:30     Palmeiras   Portuguesa  1.0   \n",
       "1  Brazil  Serie A    2012  19/05/2012  22:30  Sport Recife  Flamengo RJ  1.0   \n",
       "2  Brazil  Serie A    2012  20/05/2012  01:00   Figueirense      Nautico  2.0   \n",
       "3  Brazil  Serie A    2012  20/05/2012  20:00   Botafogo RJ    Sao Paulo  4.0   \n",
       "4  Brazil  Serie A    2012  20/05/2012  20:00   Corinthians   Fluminense  0.0   \n",
       "\n",
       "    AG  Res    PH    PD    PA  MaxH  MaxD  MaxA  AvgH  AvgD  AvgA  \n",
       "0  1.0    0  1.75  3.86  5.25  1.76  3.87  5.31  1.69  3.50  4.90  \n",
       "1  1.0    0  2.83  3.39  2.68  2.83  3.42  2.70  2.59  3.23  2.58  \n",
       "2  1.0    1  1.60  4.04  6.72  1.67  4.05  7.22  1.59  3.67  5.64  \n",
       "3  2.0    1  2.49  3.35  3.15  2.49  3.39  3.15  2.35  3.26  2.84  \n",
       "4  1.0    2  1.96  3.53  4.41  1.96  3.53  4.41  1.89  3.33  3.89  "
      ]
     },
     "execution_count": 56,
     "metadata": {},
     "output_type": "execute_result"
    }
   ],
   "source": [
    "data.head()"
   ]
  },
  {
   "cell_type": "markdown",
   "id": "ca5135c3",
   "metadata": {},
   "source": [
    "Retirar todos os campos não numericos"
   ]
  },
  {
   "cell_type": "code",
   "execution_count": 57,
   "id": "c9a1377f",
   "metadata": {},
   "outputs": [
    {
     "data": {
      "text/html": [
       "<div>\n",
       "<style scoped>\n",
       "    .dataframe tbody tr th:only-of-type {\n",
       "        vertical-align: middle;\n",
       "    }\n",
       "\n",
       "    .dataframe tbody tr th {\n",
       "        vertical-align: top;\n",
       "    }\n",
       "\n",
       "    .dataframe thead th {\n",
       "        text-align: right;\n",
       "    }\n",
       "</style>\n",
       "<table border=\"1\" class=\"dataframe\">\n",
       "  <thead>\n",
       "    <tr style=\"text-align: right;\">\n",
       "      <th></th>\n",
       "      <th>HG</th>\n",
       "      <th>AG</th>\n",
       "      <th>Res</th>\n",
       "      <th>PH</th>\n",
       "      <th>PD</th>\n",
       "      <th>PA</th>\n",
       "      <th>MaxH</th>\n",
       "      <th>MaxD</th>\n",
       "      <th>MaxA</th>\n",
       "      <th>AvgH</th>\n",
       "      <th>AvgD</th>\n",
       "      <th>AvgA</th>\n",
       "    </tr>\n",
       "  </thead>\n",
       "  <tbody>\n",
       "    <tr>\n",
       "      <th>0</th>\n",
       "      <td>1.0</td>\n",
       "      <td>1.0</td>\n",
       "      <td>0</td>\n",
       "      <td>1.75</td>\n",
       "      <td>3.86</td>\n",
       "      <td>5.25</td>\n",
       "      <td>1.76</td>\n",
       "      <td>3.87</td>\n",
       "      <td>5.31</td>\n",
       "      <td>1.69</td>\n",
       "      <td>3.50</td>\n",
       "      <td>4.90</td>\n",
       "    </tr>\n",
       "    <tr>\n",
       "      <th>1</th>\n",
       "      <td>1.0</td>\n",
       "      <td>1.0</td>\n",
       "      <td>0</td>\n",
       "      <td>2.83</td>\n",
       "      <td>3.39</td>\n",
       "      <td>2.68</td>\n",
       "      <td>2.83</td>\n",
       "      <td>3.42</td>\n",
       "      <td>2.70</td>\n",
       "      <td>2.59</td>\n",
       "      <td>3.23</td>\n",
       "      <td>2.58</td>\n",
       "    </tr>\n",
       "    <tr>\n",
       "      <th>2</th>\n",
       "      <td>2.0</td>\n",
       "      <td>1.0</td>\n",
       "      <td>1</td>\n",
       "      <td>1.60</td>\n",
       "      <td>4.04</td>\n",
       "      <td>6.72</td>\n",
       "      <td>1.67</td>\n",
       "      <td>4.05</td>\n",
       "      <td>7.22</td>\n",
       "      <td>1.59</td>\n",
       "      <td>3.67</td>\n",
       "      <td>5.64</td>\n",
       "    </tr>\n",
       "    <tr>\n",
       "      <th>3</th>\n",
       "      <td>4.0</td>\n",
       "      <td>2.0</td>\n",
       "      <td>1</td>\n",
       "      <td>2.49</td>\n",
       "      <td>3.35</td>\n",
       "      <td>3.15</td>\n",
       "      <td>2.49</td>\n",
       "      <td>3.39</td>\n",
       "      <td>3.15</td>\n",
       "      <td>2.35</td>\n",
       "      <td>3.26</td>\n",
       "      <td>2.84</td>\n",
       "    </tr>\n",
       "    <tr>\n",
       "      <th>4</th>\n",
       "      <td>0.0</td>\n",
       "      <td>1.0</td>\n",
       "      <td>2</td>\n",
       "      <td>1.96</td>\n",
       "      <td>3.53</td>\n",
       "      <td>4.41</td>\n",
       "      <td>1.96</td>\n",
       "      <td>3.53</td>\n",
       "      <td>4.41</td>\n",
       "      <td>1.89</td>\n",
       "      <td>3.33</td>\n",
       "      <td>3.89</td>\n",
       "    </tr>\n",
       "  </tbody>\n",
       "</table>\n",
       "</div>"
      ],
      "text/plain": [
       "    HG   AG  Res    PH    PD    PA  MaxH  MaxD  MaxA  AvgH  AvgD  AvgA\n",
       "0  1.0  1.0    0  1.75  3.86  5.25  1.76  3.87  5.31  1.69  3.50  4.90\n",
       "1  1.0  1.0    0  2.83  3.39  2.68  2.83  3.42  2.70  2.59  3.23  2.58\n",
       "2  2.0  1.0    1  1.60  4.04  6.72  1.67  4.05  7.22  1.59  3.67  5.64\n",
       "3  4.0  2.0    1  2.49  3.35  3.15  2.49  3.39  3.15  2.35  3.26  2.84\n",
       "4  0.0  1.0    2  1.96  3.53  4.41  1.96  3.53  4.41  1.89  3.33  3.89"
      ]
     },
     "execution_count": 57,
     "metadata": {},
     "output_type": "execute_result"
    }
   ],
   "source": [
    "num_data = data.drop(['Country', 'League', 'Season', 'Date', 'Time', 'Home', 'Away'], 1)\n",
    "\n",
    "num_data.head()"
   ]
  },
  {
   "cell_type": "markdown",
   "id": "283be888",
   "metadata": {},
   "source": [
    "features"
   ]
  },
  {
   "cell_type": "code",
   "execution_count": 58,
   "id": "4c4103ca",
   "metadata": {},
   "outputs": [],
   "source": [
    "features = num_data.drop(['Res'], 1)"
   ]
  },
  {
   "cell_type": "markdown",
   "id": "56ec838c",
   "metadata": {},
   "source": [
    "labels"
   ]
  },
  {
   "cell_type": "code",
   "execution_count": 59,
   "id": "9427e551",
   "metadata": {},
   "outputs": [],
   "source": [
    "labels = num_data['Res']"
   ]
  },
  {
   "cell_type": "code",
   "execution_count": 60,
   "id": "89314ad1",
   "metadata": {},
   "outputs": [
    {
     "name": "stdout",
     "output_type": "stream",
     "text": [
      "Features\n",
      "\n",
      "    HG   AG    PH    PD    PA  MaxH  MaxD  MaxA  AvgH  AvgD  AvgA\n",
      "0  1.0  1.0  1.75  3.86  5.25  1.76  3.87  5.31  1.69  3.50  4.90\n",
      "1  1.0  1.0  2.83  3.39  2.68  2.83  3.42  2.70  2.59  3.23  2.58\n",
      "2  2.0  1.0  1.60  4.04  6.72  1.67  4.05  7.22  1.59  3.67  5.64\n",
      "3  4.0  2.0  2.49  3.35  3.15  2.49  3.39  3.15  2.35  3.26  2.84\n",
      "4  0.0  1.0  1.96  3.53  4.41  1.96  3.53  4.41  1.89  3.33  3.89\n",
      "\n",
      "\n",
      "================\n",
      "\n",
      "\n",
      "Labels\n",
      "\n",
      "0    0\n",
      "1    0\n",
      "2    1\n",
      "3    1\n",
      "4    2\n",
      "Name: Res, dtype: int64\n"
     ]
    }
   ],
   "source": [
    "print('Features\\n')\n",
    "print(features.head())\n",
    "\n",
    "print('\\n\\n================\\n\\n')\n",
    "\n",
    "print('Labels\\n')\n",
    "print(labels.head())"
   ]
  },
  {
   "cell_type": "markdown",
   "id": "f6a03ba2",
   "metadata": {},
   "source": [
    "* Escolhendo as melhores features com KBest"
   ]
  },
  {
   "cell_type": "code",
   "execution_count": 63,
   "id": "7d51f394",
   "metadata": {},
   "outputs": [],
   "source": [
    "features_list = ('HG', 'AG', 'PH', 'PD', 'PA', 'MaxH', 'MaxD', 'MaxA', 'AvgH', 'AvgD', 'AvgA')\n",
    "\n",
    "k_best_features = SelectKBest(k = 'all')\n",
    "k_best_features.fit_transform(features, labels)\n",
    "k_best_features_scores = k_best_features.scores_\n",
    "raw_pairs = zip(features_list[1:], k_best_features_scores)\n",
    "ordered_pairs = list(reversed(sorted(raw_pairs, key = lambda x: x[1])))\n",
    "\n",
    "k_best_features_final = dict(ordered_pairs[:15])\n",
    "best_features = k_best_features_final.keys()"
   ]
  },
  {
   "cell_type": "code",
   "execution_count": 66,
   "id": "5feed7a4",
   "metadata": {},
   "outputs": [
    {
     "name": "stdout",
     "output_type": "stream",
     "text": [
      "Melhores Features\n",
      "{'AG': 1204.744540315637, 'PH': 1156.2200751772702, 'PD': 149.53931246619214, 'AvgD': 144.89149889768373, 'MaxH': 131.14403362908072, 'AvgH': 130.14962894831015, 'MaxD': 129.93176788729474, 'MaxA': 68.43861789894387, 'AvgA': 67.77806454475147, 'PA': 66.49379358497326}\n"
     ]
    }
   ],
   "source": [
    "print('Melhores Features')\n",
    "print(k_best_features_final)"
   ]
  },
  {
   "cell_type": "markdown",
   "id": "8434827c",
   "metadata": {},
   "source": [
    "* Consderando que nenhuma feature teve um valor de KBest muito baixo, será considerado todos os parâmetros"
   ]
  },
  {
   "cell_type": "markdown",
   "id": "fffaa4d5",
   "metadata": {},
   "source": [
    "Features"
   ]
  },
  {
   "cell_type": "code",
   "execution_count": 67,
   "id": "6583888a",
   "metadata": {},
   "outputs": [],
   "source": [
    "features = num_data.drop(['Res'], 1)"
   ]
  },
  {
   "cell_type": "markdown",
   "id": "8758366f",
   "metadata": {},
   "source": [
    "Labels"
   ]
  },
  {
   "cell_type": "code",
   "execution_count": 68,
   "id": "3e8a3fa4",
   "metadata": {},
   "outputs": [],
   "source": [
    "labels = num_data.Res"
   ]
  },
  {
   "cell_type": "code",
   "execution_count": 74,
   "id": "af61394c",
   "metadata": {},
   "outputs": [
    {
     "name": "stdout",
     "output_type": "stream",
     "text": [
      "Features\n",
      "\n",
      "    HG   AG    PH    PD    PA  MaxH  MaxD  MaxA  AvgH  AvgD  AvgA\n",
      "0  1.0  1.0  1.75  3.86  5.25  1.76  3.87  5.31  1.69  3.50  4.90\n",
      "1  1.0  1.0  2.83  3.39  2.68  2.83  3.42  2.70  2.59  3.23  2.58\n",
      "2  2.0  1.0  1.60  4.04  6.72  1.67  4.05  7.22  1.59  3.67  5.64\n",
      "3  4.0  2.0  2.49  3.35  3.15  2.49  3.39  3.15  2.35  3.26  2.84\n",
      "4  0.0  1.0  1.96  3.53  4.41  1.96  3.53  4.41  1.89  3.33  3.89\n",
      "\n",
      "\n",
      "=================================================================\n",
      "\n",
      "\n",
      "Labels\n",
      "\n",
      "0    0\n",
      "1    0\n",
      "2    1\n",
      "3    1\n",
      "4    2\n",
      "Name: Res, dtype: int64\n"
     ]
    }
   ],
   "source": [
    "print('Features\\n')\n",
    "print(features.head())\n",
    "\n",
    "print('\\n\\n=================================================================\\n\\n')\n",
    "\n",
    "print('Labels\\n')\n",
    "print(labels.head())"
   ]
  },
  {
   "cell_type": "markdown",
   "id": "a3719bda",
   "metadata": {},
   "source": [
    "## Normalizando os dados de entrada (features)"
   ]
  },
  {
   "cell_type": "markdown",
   "id": "6a763697",
   "metadata": {},
   "source": [
    "Gerando novo padrão"
   ]
  },
  {
   "cell_type": "code",
   "execution_count": 76,
   "id": "fe49c763",
   "metadata": {},
   "outputs": [],
   "source": [
    "scaler = MinMaxScaler().fit(features)\n",
    "features_scale = scaler.transform(features)"
   ]
  },
  {
   "cell_type": "code",
   "execution_count": 78,
   "id": "8cd65e0e",
   "metadata": {},
   "outputs": [
    {
     "name": "stdout",
     "output_type": "stream",
     "text": [
      "Features:  (3623, 11) \n",
      "\n",
      "[[0.16666667 0.16666667 0.04036145 ... 0.03235908 0.11913357 0.14746363]\n",
      " [0.16666667 0.16666667 0.10542169 ... 0.07933194 0.0866426  0.0562328 ]\n",
      " [0.33333333 0.16666667 0.0313253  ... 0.02713987 0.13959085 0.17656311]\n",
      " ...\n",
      " [0.         0.16666667 0.0246988  ... 0.02035491 0.21901324 0.22532442]\n",
      " [0.33333333 0.33333333 0.1439759  ... 0.11951983 0.03489771 0.05112072]\n",
      " [0.         0.         0.06084337 ... 0.04958246 0.09025271 0.10460087]]\n"
     ]
    }
   ],
   "source": [
    "print('Features: ', features_scale.shape, '\\n')\n",
    "print(features_scale)"
   ]
  },
  {
   "cell_type": "markdown",
   "id": "efee5d60",
   "metadata": {},
   "source": [
    "## Separação em Treinamento e Teste"
   ]
  },
  {
   "cell_type": "code",
   "execution_count": 82,
   "id": "7f611664",
   "metadata": {},
   "outputs": [
    {
     "name": "stdout",
     "output_type": "stream",
     "text": [
      "Treino\n",
      "3071 3071\n",
      "\n",
      "Teste\n",
      "355 355\n"
     ]
    }
   ],
   "source": [
    "X_train = features_scale[:3071]\n",
    "X_test = features_scale[3071:3426]\n",
    "y_train = labels[:3071]\n",
    "y_test = labels[3071:3426]\n",
    "\n",
    "print('Treino')\n",
    "print(len(X_train), len(y_train))\n",
    "print('\\nTeste')\n",
    "print(len(X_test), len(y_test))"
   ]
  },
  {
   "cell_type": "markdown",
   "id": "1109ddca",
   "metadata": {},
   "source": [
    "## treinando e testando modelos"
   ]
  },
  {
   "cell_type": "markdown",
   "id": "af3eb524",
   "metadata": {},
   "source": [
    "### Regressão Logística"
   ]
  },
  {
   "cell_type": "code",
   "execution_count": 87,
   "id": "9b8faad8",
   "metadata": {},
   "outputs": [
    {
     "name": "stdout",
     "output_type": "stream",
     "text": [
      "Acurácia LogisticRegression: 1.0\n",
      "F1 Score: 1.0\n"
     ]
    }
   ],
   "source": [
    "clf_LR = LogisticRegression(multi_class = 'multinomial', max_iter = 2000)\n",
    "clf_LR.fit(X_train, y_train)\n",
    "pred_lr = clf_LR.predict(X_test)\n",
    "\n",
    "lg_acc = accuracy_score(y_test, pred_lr)\n",
    "f1_lr = f1_score(y_test, pred_lr, average = 'micro')\n",
    "print('Acurácia LogisticRegression: {}'.format(lg_acc))\n",
    "print('F1 Score: {}'.format(f1_lr))"
   ]
  },
  {
   "cell_type": "markdown",
   "id": "173ca9fd",
   "metadata": {},
   "source": [
    "* O modelo apresenta sinais de overfiting"
   ]
  },
  {
   "cell_type": "markdown",
   "id": "2aa576a6",
   "metadata": {},
   "source": [
    "**Testando Hyper Parameters**"
   ]
  },
  {
   "cell_type": "code",
   "execution_count": 88,
   "id": "daa66d94",
   "metadata": {},
   "outputs": [
    {
     "name": "stdout",
     "output_type": "stream",
     "text": [
      "Acurácia LogisticRegression: 1.0\n",
      "F1 Score: 1.0\n",
      "LogisticRegression(C=10, max_iter=1000)\n"
     ]
    }
   ],
   "source": [
    "param_grid = {'C': [0.001, 0.01, 0.1, 1, 10, 100, 1000]}\n",
    "\n",
    "search = GridSearchCV(LogisticRegression(max_iter = 1000), param_grid)\n",
    "\n",
    "search.fit(X_train, y_train)\n",
    "clf = search.best_estimator_\n",
    "pred = clf.predict(X_test)\n",
    "lg_acc = accuracy_score(y_test, pred)\n",
    "f1 = f1_score(y_test, pred, average = 'macro')\n",
    "\n",
    "print('Acurácia LogisticRegression: {}'.format(lg_acc))\n",
    "print('F1 Score: {}'.format(f1))\n",
    "\n",
    "print(clf)"
   ]
  },
  {
   "cell_type": "markdown",
   "id": "64dcdfd4",
   "metadata": {},
   "source": [
    "### SVM"
   ]
  },
  {
   "cell_type": "code",
   "execution_count": 89,
   "id": "4e2bd524",
   "metadata": {},
   "outputs": [
    {
     "name": "stdout",
     "output_type": "stream",
     "text": [
      "Acurácia SVC: 0.9943661971830986\n",
      "F1 Score: 0.9943661971830986\n"
     ]
    }
   ],
   "source": [
    "clf = SVC()\n",
    "clf.fit(X_train, y_train)\n",
    "pred = clf.predict(X_test)\n",
    "\n",
    "svc_acc = accuracy_score(y_test, pred)\n",
    "f1 = f1_score(y_test, pred, average = 'micro')\n",
    "print('Acurácia SVC: {}'.format(svc_acc))\n",
    "print('F1 Score: {}'.format(f1))"
   ]
  },
  {
   "cell_type": "markdown",
   "id": "9552ff6a",
   "metadata": {},
   "source": [
    "**Testando Hyper Parameters**"
   ]
  },
  {
   "cell_type": "code",
   "execution_count": 90,
   "id": "e9fe122a",
   "metadata": {},
   "outputs": [
    {
     "name": "stdout",
     "output_type": "stream",
     "text": [
      "Acurácia SVC: 0.9971830985915493\n",
      "F1 Score: 0.9972997628170042\n",
      "SVC(C=10, max_iter=1000)\n"
     ]
    }
   ],
   "source": [
    "param_grid = {'C': [0.001, 0.01, 0.1, 1, 10, 100, 1000]}\n",
    "\n",
    "search = GridSearchCV(SVC(max_iter = 1000), param_grid)\n",
    "\n",
    "search.fit(X_train, y_train)\n",
    "clf_SVC = search.best_estimator_\n",
    "pred = clf_SVC.predict(X_test)\n",
    "\n",
    "acc = accuracy_score(y_test, pred)\n",
    "f1 = f1_score(y_test, pred, average = 'macro')\n",
    "\n",
    "print('Acurácia SVC: {}'.format(acc))\n",
    "print('F1 Score: {}'.format(f1))\n",
    "\n",
    "print(clf_SVC)"
   ]
  },
  {
   "cell_type": "markdown",
   "id": "6fd2563b",
   "metadata": {},
   "source": [
    "### Decision Tree"
   ]
  },
  {
   "cell_type": "code",
   "execution_count": 93,
   "id": "f995a520",
   "metadata": {},
   "outputs": [
    {
     "name": "stdout",
     "output_type": "stream",
     "text": [
      "Acurácia Tree: 1.0\n",
      "F1 Score: 1.0\n"
     ]
    }
   ],
   "source": [
    "clf = DecisionTreeClassifier()\n",
    "clf.fit(X_train, y_train)\n",
    "pred = clf.predict(X_test)\n",
    "\n",
    "dt_acc = accuracy_score(y_test, pred)\n",
    "f1 = f1_score(y_test, pred, average = 'micro')\n",
    "print('Acurácia Tree: {}'.format(dt_acc))\n",
    "print('F1 Score: {}'.format(f1))\n",
    "\n",
    "n_estimators = [10, 50, 100, 200]\n",
    "max_depth = [3, 10, 20, 40]"
   ]
  },
  {
   "cell_type": "markdown",
   "id": "352436ba",
   "metadata": {},
   "source": [
    "**Testando Hyper Parameters**"
   ]
  },
  {
   "cell_type": "code",
   "execution_count": 94,
   "id": "7daf8446",
   "metadata": {},
   "outputs": [
    {
     "name": "stdout",
     "output_type": "stream",
     "text": [
      "Acurácia Tree: 0.8450704225352113\n",
      "F1 Score: 0.8450704225352113\n",
      "DecisionTreeClassifier(max_depth=90, max_features=3, min_samples_leaf=4,\n",
      "                       min_samples_split=12)\n"
     ]
    }
   ],
   "source": [
    "param_grid = {\n",
    "    'max_depth': [80, 90, 100, 110],\n",
    "    'max_features': [2, 3],\n",
    "    'min_samples_leaf': [3, 4, 5],\n",
    "    'min_samples_split': [8, 10, 12]\n",
    "}\n",
    "\n",
    "search = GridSearchCV(DecisionTreeClassifier(), param_grid)\n",
    "\n",
    "search.fit(X_train, y_train)\n",
    "clf = search.best_estimator_\n",
    "pred = clf.predict(X_test)\n",
    "\n",
    "dt_acc = accuracy_score(y_test, pred)\n",
    "f1 = f1_score(y_test, pred, average = 'micro')\n",
    "\n",
    "print('Acurácia Tree: {}'.format(dt_acc))\n",
    "print('F1 Score: {}'.format(f1))\n",
    "\n",
    "print(clf)"
   ]
  },
  {
   "cell_type": "markdown",
   "id": "652b0584",
   "metadata": {},
   "source": [
    "### Naive Bayes"
   ]
  },
  {
   "cell_type": "code",
   "execution_count": 95,
   "id": "7e950581",
   "metadata": {},
   "outputs": [
    {
     "name": "stdout",
     "output_type": "stream",
     "text": [
      "Acurácia Naive Bayes: 0.6338028169014085\n",
      "F1 Score: 0.6338028169014085\n"
     ]
    }
   ],
   "source": [
    "clf = GaussianNB()\n",
    "clf.fit(X_train, y_train)\n",
    "pred = clf.predict(X_test)\n",
    "\n",
    "nb_acc = accuracy_score(y_test, pred)\n",
    "f1 = f1_score(y_test, pred, average = 'micro')\n",
    "print('Acurácia Naive Bayes: {}'.format(nb_acc))\n",
    "print('F1 Score: {}'.format(f1))"
   ]
  },
  {
   "cell_type": "markdown",
   "id": "8cfa6c20",
   "metadata": {},
   "source": [
    "## Executando a previsão"
   ]
  },
  {
   "cell_type": "markdown",
   "id": "993be78f",
   "metadata": {},
   "source": [
    "* O modelo de SVM foi o que melhor performou"
   ]
  },
  {
   "cell_type": "code",
   "execution_count": 97,
   "id": "5fb3a09f",
   "metadata": {},
   "outputs": [
    {
     "name": "stdout",
     "output_type": "stream",
     "text": [
      "      real  previsao\n",
      "3427     2         2\n",
      "3428     2         2\n",
      "3429     0         0\n",
      "3430     1         1\n",
      "3431     0         0\n",
      "...    ...       ...\n",
      "3619     1         1\n",
      "3620     0         0\n",
      "3621     2         2\n",
      "3622     0         0\n",
      "3623     0         0\n",
      "\n",
      "[197 rows x 2 columns]\n"
     ]
    }
   ],
   "source": [
    "previsao = features_scale[3426:]\n",
    "\n",
    "res_full = data.Res\n",
    "res = res_full[3426:]\n",
    "\n",
    "clf_svc = SVC()\n",
    "clf_svc.fit(X_train, y_train)\n",
    "pred = clf_svc.predict(previsao)\n",
    "\n",
    "df = pd.DataFrame({'real': res, 'previsao': pred})\n",
    "\n",
    "print(df)"
   ]
  },
  {
   "cell_type": "markdown",
   "id": "403004b7",
   "metadata": {},
   "source": [
    "**Matriz de confusão**"
   ]
  },
  {
   "cell_type": "code",
   "execution_count": 98,
   "id": "7b964c82",
   "metadata": {},
   "outputs": [
    {
     "data": {
      "text/plain": [
       "<AxesSubplot:xlabel='previsao', ylabel='real'>"
      ]
     },
     "execution_count": 98,
     "metadata": {},
     "output_type": "execute_result"
    },
    {
     "data": {
      "image/png": "[encoded data removed]",
      "text/plain": [
       "<Figure size 432x288 with 2 Axes>"
      ]
     },
     "metadata": {
      "needs_background": "light"
     },
     "output_type": "display_data"
    }
   ],
   "source": [
    "df = pd.DataFrame(df, columns = ['real', 'previsao'])\n",
    "\n",
    "cf_matrix = pd.crosstab(df.real, df.previsao, rownames=['real'], colnames = ['previsao'])\n",
    "\n",
    "sns.heatmap(cf_matrix, annot = True, cmap = 'Blues')"
   ]
  },
  {
   "cell_type": "code",
   "execution_count": null,
   "id": "cc2bc195",
   "metadata": {},
   "outputs": [],
   "source": []
  }
 ],
 "metadata": {
  "kernelspec": {
   "display_name": "Python 3",
   "language": "python",
   "name": "python3"
  },
  "language_info": {
   "codemirror_mode": {
    "name": "ipython",
    "version": 3
   },
   "file_extension": ".py",
   "mimetype": "text/x-python",
   "name": "python",
   "nbconvert_exporter": "python",
   "pygments_lexer": "ipython3",
   "version": "3.8.8"
  }
 },
 "nbformat": 4,
 "nbformat_minor": 5
}
