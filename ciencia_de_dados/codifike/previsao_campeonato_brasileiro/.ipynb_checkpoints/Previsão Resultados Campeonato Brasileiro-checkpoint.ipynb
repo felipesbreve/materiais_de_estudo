{
 "cells": [
  {
   "cell_type": "markdown",
   "id": "e9e794e3",
   "metadata": {},
   "source": [
    "Importando as bibliotecas"
   ]
  },
  {
   "cell_type": "code",
   "execution_count": 1,
   "id": "d7b8f045",
   "metadata": {},
   "outputs": [],
   "source": [
    "import pandas as pd\n",
    "import numpy as np\n",
    "import seaborn as sns\n",
    "import matplotlib.pyplot as plt\n",
    "from sklearn.linear_model import LogisticRegression\n",
    "from sklearn.tree import DecisionTreeClassifier\n",
    "from sklearn.naive_bayes import GaussianNB\n",
    "from sklearn.svm import SVC\n",
    "from sklearn.metrics import accuracy_score, f1_score, precision_score, recall_score\n",
    "from sklearn.feature_selection import SelectKBest\n",
    "from sklearn.model_selection import GridSearchCV\n",
    "from sklearn.preprocessing import StandardScaler, MinMaxScaler\n",
    "from sklearn.preprocessing import scale\n",
    "from IPython.display import display\n",
    "%matplotlib inline"
   ]
  },
  {
   "cell_type": "markdown",
   "id": "5e52c272",
   "metadata": {},
   "source": [
    "## Importando os dados"
   ]
  },
  {
   "cell_type": "markdown",
   "id": "65b1252b",
   "metadata": {},
   "source": [
    "Lendo o arquivo BRAS.csv\n",
    "O arquivo utilizado foi obtido do site football-data.co.uk."
   ]
  },
  {
   "cell_type": "code",
   "execution_count": 2,
   "id": "5f060d1a",
   "metadata": {},
   "outputs": [],
   "source": [
    "data = pd.read_csv('data/BRA.csv', delimiter = ',')"
   ]
  },
  {
   "cell_type": "markdown",
   "id": "ceb3e080",
   "metadata": {},
   "source": [
    "verificando o head da tabela"
   ]
  },
  {
   "cell_type": "markdown",
   "id": "d9e5df89",
   "metadata": {},
   "source": [
    "**Legenda**"
   ]
  },
  {
   "cell_type": "markdown",
   "id": "454a39c2",
   "metadata": {},
   "source": [
    "* Country = País do Campeonato\n",
    "* League = Nome da Liga\n",
    "* Game_id = Id do jogo\n",
    "* Season = Temporada\n",
    "* Date = Data do jogo\n",
    "* Time = Hora do jogo\n",
    "* Home = Time da casa\n",
    "* Home_id = Id do time da casa\n",
    "* Away = Time visitante\n",
    "* Away_id = Id do time visitante\n",
    "* HG = Gols do time da casa\n",
    "* AG = Gols do time visitante\n",
    "* Res = Resultado do jogo (D = Draw, H = Home win, A = Away win)\n",
    "* PH = Probabilidade de vitória do time da casa provida pela Pinacle (casa de aposta inglesa)\n",
    "* PD = Probabilidade de empate provida pela Pinacle (casa de aposta inglesa)\n",
    "* PA = Probabilidade de vitória do time visitante provida pela Pinacle (casa de aposta inglesa)\n",
    "* MaxH = Probabilidade de vitória do time da casa provida pela OddsPortal (casa de aposta inglesa)\n",
    "* MaxD = Probabilidade de empate provida pela OddsPortal (casa de aposta inglesa)\n",
    "* MaxA = Probabilidade de vitória do time visitante provida pela OddsPortal (casa de aposta inglesa)\n",
    "* AvgH = Probabilidade média de vitória do time da casa provida pela OddsPortal (casa de aposta inglesa)\n",
    "* AvgD = Probabilidade média de empate provida pela OddsPortal (casa de aposta inglesa)\n",
    "* AvgA = Probabilidade média de vitória do time visitante provida pela OddsPortal (casa de aposta inglesa)"
   ]
  },
  {
   "cell_type": "code",
   "execution_count": 7,
   "id": "fb5daf87",
   "metadata": {},
   "outputs": [
    {
     "data": {
      "text/html": [
       "<div>\n",
       "<style scoped>\n",
       "    .dataframe tbody tr th:only-of-type {\n",
       "        vertical-align: middle;\n",
       "    }\n",
       "\n",
       "    .dataframe tbody tr th {\n",
       "        vertical-align: top;\n",
       "    }\n",
       "\n",
       "    .dataframe thead th {\n",
       "        text-align: right;\n",
       "    }\n",
       "</style>\n",
       "<table border=\"1\" class=\"dataframe\">\n",
       "  <thead>\n",
       "    <tr style=\"text-align: right;\">\n",
       "      <th></th>\n",
       "      <th>Country</th>\n",
       "      <th>League</th>\n",
       "      <th>Season</th>\n",
       "      <th>Date</th>\n",
       "      <th>Time</th>\n",
       "      <th>Home</th>\n",
       "      <th>Away</th>\n",
       "      <th>HG</th>\n",
       "      <th>AG</th>\n",
       "      <th>Res</th>\n",
       "      <th>PH</th>\n",
       "      <th>PD</th>\n",
       "      <th>PA</th>\n",
       "      <th>MaxH</th>\n",
       "      <th>MaxD</th>\n",
       "      <th>MaxA</th>\n",
       "      <th>AvgH</th>\n",
       "      <th>AvgD</th>\n",
       "      <th>AvgA</th>\n",
       "    </tr>\n",
       "  </thead>\n",
       "  <tbody>\n",
       "    <tr>\n",
       "      <th>0</th>\n",
       "      <td>Brazil</td>\n",
       "      <td>Serie A</td>\n",
       "      <td>2012</td>\n",
       "      <td>19/05/2012</td>\n",
       "      <td>22:30</td>\n",
       "      <td>Palmeiras</td>\n",
       "      <td>Portuguesa</td>\n",
       "      <td>1.0</td>\n",
       "      <td>1.0</td>\n",
       "      <td>D</td>\n",
       "      <td>1.75</td>\n",
       "      <td>3.86</td>\n",
       "      <td>5.25</td>\n",
       "      <td>1.76</td>\n",
       "      <td>3.87</td>\n",
       "      <td>5.31</td>\n",
       "      <td>1.69</td>\n",
       "      <td>3.50</td>\n",
       "      <td>4.90</td>\n",
       "    </tr>\n",
       "    <tr>\n",
       "      <th>1</th>\n",
       "      <td>Brazil</td>\n",
       "      <td>Serie A</td>\n",
       "      <td>2012</td>\n",
       "      <td>19/05/2012</td>\n",
       "      <td>22:30</td>\n",
       "      <td>Sport Recife</td>\n",
       "      <td>Flamengo RJ</td>\n",
       "      <td>1.0</td>\n",
       "      <td>1.0</td>\n",
       "      <td>D</td>\n",
       "      <td>2.83</td>\n",
       "      <td>3.39</td>\n",
       "      <td>2.68</td>\n",
       "      <td>2.83</td>\n",
       "      <td>3.42</td>\n",
       "      <td>2.70</td>\n",
       "      <td>2.59</td>\n",
       "      <td>3.23</td>\n",
       "      <td>2.58</td>\n",
       "    </tr>\n",
       "    <tr>\n",
       "      <th>2</th>\n",
       "      <td>Brazil</td>\n",
       "      <td>Serie A</td>\n",
       "      <td>2012</td>\n",
       "      <td>20/05/2012</td>\n",
       "      <td>01:00</td>\n",
       "      <td>Figueirense</td>\n",
       "      <td>Nautico</td>\n",
       "      <td>2.0</td>\n",
       "      <td>1.0</td>\n",
       "      <td>H</td>\n",
       "      <td>1.60</td>\n",
       "      <td>4.04</td>\n",
       "      <td>6.72</td>\n",
       "      <td>1.67</td>\n",
       "      <td>4.05</td>\n",
       "      <td>7.22</td>\n",
       "      <td>1.59</td>\n",
       "      <td>3.67</td>\n",
       "      <td>5.64</td>\n",
       "    </tr>\n",
       "    <tr>\n",
       "      <th>3</th>\n",
       "      <td>Brazil</td>\n",
       "      <td>Serie A</td>\n",
       "      <td>2012</td>\n",
       "      <td>20/05/2012</td>\n",
       "      <td>20:00</td>\n",
       "      <td>Botafogo RJ</td>\n",
       "      <td>Sao Paulo</td>\n",
       "      <td>4.0</td>\n",
       "      <td>2.0</td>\n",
       "      <td>H</td>\n",
       "      <td>2.49</td>\n",
       "      <td>3.35</td>\n",
       "      <td>3.15</td>\n",
       "      <td>2.49</td>\n",
       "      <td>3.39</td>\n",
       "      <td>3.15</td>\n",
       "      <td>2.35</td>\n",
       "      <td>3.26</td>\n",
       "      <td>2.84</td>\n",
       "    </tr>\n",
       "    <tr>\n",
       "      <th>4</th>\n",
       "      <td>Brazil</td>\n",
       "      <td>Serie A</td>\n",
       "      <td>2012</td>\n",
       "      <td>20/05/2012</td>\n",
       "      <td>20:00</td>\n",
       "      <td>Corinthians</td>\n",
       "      <td>Fluminense</td>\n",
       "      <td>0.0</td>\n",
       "      <td>1.0</td>\n",
       "      <td>A</td>\n",
       "      <td>1.96</td>\n",
       "      <td>3.53</td>\n",
       "      <td>4.41</td>\n",
       "      <td>1.96</td>\n",
       "      <td>3.53</td>\n",
       "      <td>4.41</td>\n",
       "      <td>1.89</td>\n",
       "      <td>3.33</td>\n",
       "      <td>3.89</td>\n",
       "    </tr>\n",
       "  </tbody>\n",
       "</table>\n",
       "</div>"
      ],
      "text/plain": [
       "  Country   League  Season        Date   Time          Home         Away   HG  \\\n",
       "0  Brazil  Serie A    2012  19/05/2012  22:30     Palmeiras   Portuguesa  1.0   \n",
       "1  Brazil  Serie A    2012  19/05/2012  22:30  Sport Recife  Flamengo RJ  1.0   \n",
       "2  Brazil  Serie A    2012  20/05/2012  01:00   Figueirense      Nautico  2.0   \n",
       "3  Brazil  Serie A    2012  20/05/2012  20:00   Botafogo RJ    Sao Paulo  4.0   \n",
       "4  Brazil  Serie A    2012  20/05/2012  20:00   Corinthians   Fluminense  0.0   \n",
       "\n",
       "    AG Res    PH    PD    PA  MaxH  MaxD  MaxA  AvgH  AvgD  AvgA  \n",
       "0  1.0   D  1.75  3.86  5.25  1.76  3.87  5.31  1.69  3.50  4.90  \n",
       "1  1.0   D  2.83  3.39  2.68  2.83  3.42  2.70  2.59  3.23  2.58  \n",
       "2  1.0   H  1.60  4.04  6.72  1.67  4.05  7.22  1.59  3.67  5.64  \n",
       "3  2.0   H  2.49  3.35  3.15  2.49  3.39  3.15  2.35  3.26  2.84  \n",
       "4  1.0   A  1.96  3.53  4.41  1.96  3.53  4.41  1.89  3.33  3.89  "
      ]
     },
     "metadata": {},
     "output_type": "display_data"
    }
   ],
   "source": [
    "display(data.head())"
   ]
  },
  {
   "cell_type": "markdown",
   "id": "0d91f7eb",
   "metadata": {},
   "source": [
    "## Explorando os dados"
   ]
  },
  {
   "cell_type": "code",
   "execution_count": 10,
   "id": "78cb9bf4",
   "metadata": {},
   "outputs": [
    {
     "name": "stdout",
     "output_type": "stream",
     "text": [
      "Total de jogos:  3624\n",
      "Total de colunas:  18\n",
      "Total de jogos ganhos em casa:  1765\n",
      "Total de jogos ganhos fora de casa:  882\n",
      "Total de jogos empatados:  976\n",
      "Percentual de jogos ganhos em casa: 48.705%\n"
     ]
    }
   ],
   "source": [
    "matches = data.shape[0]\n",
    "features = data.shape[1] - 1 #Desconsiderando a coluna 'resultados'\n",
    "\n",
    "home_win = len(data[data.Res == 'H'])\n",
    "away_win = len(data[data.Res == 'A'])\n",
    "draw = len(data[data.Res == 'D'])\n",
    "val = [home_win, away_win, draw]\n",
    "\n",
    "win_rate = (float(home_win) / (matches)) * 100\n",
    "\n",
    "print('Total de jogos: ', matches)\n",
    "print('Total de colunas: ', features)\n",
    "print('Total de jogos ganhos em casa: ', home_win)\n",
    "print('Total de jogos ganhos fora de casa: ', away_win)\n",
    "print('Total de jogos empatados: ', draw)\n",
    "print('Percentual de jogos ganhos em casa: {:.2f}5%'.format(win_rate))"
   ]
  },
  {
   "cell_type": "markdown",
   "id": "b1d201ba",
   "metadata": {},
   "source": [
    "* Nota-se que o \"fator casa\" é relevante pois quase 50% dos jogos são ganhos pelo time mandante"
   ]
  },
  {
   "cell_type": "code",
   "execution_count": 12,
   "id": "fc5a7a75",
   "metadata": {},
   "outputs": [
    {
     "data": {
      "image/png": "[encoded data removed]",
      "text/plain": [
       "<Figure size 432x288 with 1 Axes>"
      ]
     },
     "metadata": {
      "needs_background": "light"
     },
     "output_type": "display_data"
    }
   ],
   "source": [
    "x = np.arange(3)\n",
    "plt.bar(x, val)\n",
    "plt.xticks(x, ('Home', 'Away', 'Draw'))\n",
    "plt.show()"
   ]
  },
  {
   "cell_type": "markdown",
   "id": "215088c1",
   "metadata": {},
   "source": [
    "##  Preparando os dados"
   ]
  },
  {
   "cell_type": "markdown",
   "id": "238b79a9",
   "metadata": {},
   "source": [
    "Atribuir ao campo 'resultado' valores numericos\n",
    "* H = 1\n",
    "* A = 2\n",
    "* D = 0"
   ]
  },
  {
   "cell_type": "code",
   "execution_count": 15,
   "id": "1b901ff0",
   "metadata": {},
   "outputs": [],
   "source": [
    "data.Res.replace({'H': 1, 'D': 0, 'A': 2}, inplace = True)"
   ]
  },
  {
   "cell_type": "code",
   "execution_count": 18,
   "id": "82c91cb3",
   "metadata": {},
   "outputs": [
    {
     "name": "stdout",
     "output_type": "stream",
     "text": [
      "<class 'pandas.core.frame.DataFrame'>\n",
      "RangeIndex: 3624 entries, 0 to 3623\n",
      "Data columns (total 19 columns):\n",
      " #   Column   Non-Null Count  Dtype  \n",
      "---  ------   --------------  -----  \n",
      " 0   Country  3624 non-null   object \n",
      " 1   League   3624 non-null   object \n",
      " 2   Season   3624 non-null   int64  \n",
      " 3   Date     3624 non-null   object \n",
      " 4   Time     3624 non-null   object \n",
      " 5   Home     3624 non-null   object \n",
      " 6   Away     3624 non-null   object \n",
      " 7   HG       3623 non-null   float64\n",
      " 8   AG       3623 non-null   float64\n",
      " 9   Res      3623 non-null   float64\n",
      " 10  PH       3623 non-null   float64\n",
      " 11  PD       3623 non-null   float64\n",
      " 12  PA       3623 non-null   float64\n",
      " 13  MaxH     3624 non-null   float64\n",
      " 14  MaxD     3624 non-null   float64\n",
      " 15  MaxA     3624 non-null   float64\n",
      " 16  AvgH     3624 non-null   float64\n",
      " 17  AvgD     3624 non-null   float64\n",
      " 18  AvgA     3624 non-null   float64\n",
      "dtypes: float64(12), int64(1), object(6)\n",
      "memory usage: 538.1+ KB\n"
     ]
    }
   ],
   "source": [
    "data.info()"
   ]
  },
  {
   "cell_type": "code",
   "execution_count": 28,
   "id": "c599fa4e",
   "metadata": {},
   "outputs": [
    {
     "data": {
      "text/plain": [
       "Country    0\n",
       "League     0\n",
       "Season     0\n",
       "Date       0\n",
       "Time       0\n",
       "Home       0\n",
       "Away       0\n",
       "HG         1\n",
       "AG         1\n",
       "Res        1\n",
       "PH         1\n",
       "PD         1\n",
       "PA         1\n",
       "MaxH       0\n",
       "MaxD       0\n",
       "MaxA       0\n",
       "AvgH       0\n",
       "AvgD       0\n",
       "AvgA       0\n",
       "dtype: int64"
      ]
     },
     "execution_count": 28,
     "metadata": {},
     "output_type": "execute_result"
    }
   ],
   "source": [
    "data.isna().sum()"
   ]
  },
  {
   "cell_type": "code",
   "execution_count": 29,
   "id": "a5c803a0",
   "metadata": {},
   "outputs": [],
   "source": [
    "data.dropna(inplace = True)"
   ]
  },
  {
   "cell_type": "code",
   "execution_count": 30,
   "id": "70b70d84",
   "metadata": {},
   "outputs": [
    {
     "data": {
      "text/plain": [
       "Country    0\n",
       "League     0\n",
       "Season     0\n",
       "Date       0\n",
       "Time       0\n",
       "Home       0\n",
       "Away       0\n",
       "HG         0\n",
       "AG         0\n",
       "Res        0\n",
       "PH         0\n",
       "PD         0\n",
       "PA         0\n",
       "MaxH       0\n",
       "MaxD       0\n",
       "MaxA       0\n",
       "AvgH       0\n",
       "AvgD       0\n",
       "AvgA       0\n",
       "dtype: int64"
      ]
     },
     "execution_count": 30,
     "metadata": {},
     "output_type": "execute_result"
    }
   ],
   "source": [
    "data.isna().sum()"
   ]
  },
  {
   "cell_type": "code",
   "execution_count": 37,
   "id": "64576a94",
   "metadata": {},
   "outputs": [],
   "source": [
    "data.Res = data.Res.astype(int)"
   ]
  },
  {
   "cell_type": "code",
   "execution_count": 39,
   "id": "7b67eedc",
   "metadata": {},
   "outputs": [
    {
     "name": "stdout",
     "output_type": "stream",
     "text": [
      "<class 'pandas.core.frame.DataFrame'>\n",
      "Int64Index: 3623 entries, 0 to 3623\n",
      "Data columns (total 19 columns):\n",
      " #   Column   Non-Null Count  Dtype  \n",
      "---  ------   --------------  -----  \n",
      " 0   Country  3623 non-null   object \n",
      " 1   League   3623 non-null   object \n",
      " 2   Season   3623 non-null   int64  \n",
      " 3   Date     3623 non-null   object \n",
      " 4   Time     3623 non-null   object \n",
      " 5   Home     3623 non-null   object \n",
      " 6   Away     3623 non-null   object \n",
      " 7   HG       3623 non-null   float64\n",
      " 8   AG       3623 non-null   float64\n",
      " 9   Res      3623 non-null   int32  \n",
      " 10  PH       3623 non-null   float64\n",
      " 11  PD       3623 non-null   float64\n",
      " 12  PA       3623 non-null   float64\n",
      " 13  MaxH     3623 non-null   float64\n",
      " 14  MaxD     3623 non-null   float64\n",
      " 15  MaxA     3623 non-null   float64\n",
      " 16  AvgH     3623 non-null   float64\n",
      " 17  AvgD     3623 non-null   float64\n",
      " 18  AvgA     3623 non-null   float64\n",
      "dtypes: float64(11), int32(1), int64(1), object(6)\n",
      "memory usage: 551.9+ KB\n"
     ]
    }
   ],
   "source": [
    "data.info()"
   ]
  },
  {
   "cell_type": "code",
   "execution_count": 40,
   "id": "8b2d1fa0",
   "metadata": {},
   "outputs": [
    {
     "data": {
      "text/html": [
       "<div>\n",
       "<style scoped>\n",
       "    .dataframe tbody tr th:only-of-type {\n",
       "        vertical-align: middle;\n",
       "    }\n",
       "\n",
       "    .dataframe tbody tr th {\n",
       "        vertical-align: top;\n",
       "    }\n",
       "\n",
       "    .dataframe thead th {\n",
       "        text-align: right;\n",
       "    }\n",
       "</style>\n",
       "<table border=\"1\" class=\"dataframe\">\n",
       "  <thead>\n",
       "    <tr style=\"text-align: right;\">\n",
       "      <th></th>\n",
       "      <th>Country</th>\n",
       "      <th>League</th>\n",
       "      <th>Season</th>\n",
       "      <th>Date</th>\n",
       "      <th>Time</th>\n",
       "      <th>Home</th>\n",
       "      <th>Away</th>\n",
       "      <th>HG</th>\n",
       "      <th>AG</th>\n",
       "      <th>Res</th>\n",
       "      <th>PH</th>\n",
       "      <th>PD</th>\n",
       "      <th>PA</th>\n",
       "      <th>MaxH</th>\n",
       "      <th>MaxD</th>\n",
       "      <th>MaxA</th>\n",
       "      <th>AvgH</th>\n",
       "      <th>AvgD</th>\n",
       "      <th>AvgA</th>\n",
       "    </tr>\n",
       "  </thead>\n",
       "  <tbody>\n",
       "    <tr>\n",
       "      <th>0</th>\n",
       "      <td>Brazil</td>\n",
       "      <td>Serie A</td>\n",
       "      <td>2012</td>\n",
       "      <td>19/05/2012</td>\n",
       "      <td>22:30</td>\n",
       "      <td>Palmeiras</td>\n",
       "      <td>Portuguesa</td>\n",
       "      <td>1.0</td>\n",
       "      <td>1.0</td>\n",
       "      <td>0</td>\n",
       "      <td>1.75</td>\n",
       "      <td>3.86</td>\n",
       "      <td>5.25</td>\n",
       "      <td>1.76</td>\n",
       "      <td>3.87</td>\n",
       "      <td>5.31</td>\n",
       "      <td>1.69</td>\n",
       "      <td>3.50</td>\n",
       "      <td>4.90</td>\n",
       "    </tr>\n",
       "    <tr>\n",
       "      <th>1</th>\n",
       "      <td>Brazil</td>\n",
       "      <td>Serie A</td>\n",
       "      <td>2012</td>\n",
       "      <td>19/05/2012</td>\n",
       "      <td>22:30</td>\n",
       "      <td>Sport Recife</td>\n",
       "      <td>Flamengo RJ</td>\n",
       "      <td>1.0</td>\n",
       "      <td>1.0</td>\n",
       "      <td>0</td>\n",
       "      <td>2.83</td>\n",
       "      <td>3.39</td>\n",
       "      <td>2.68</td>\n",
       "      <td>2.83</td>\n",
       "      <td>3.42</td>\n",
       "      <td>2.70</td>\n",
       "      <td>2.59</td>\n",
       "      <td>3.23</td>\n",
       "      <td>2.58</td>\n",
       "    </tr>\n",
       "    <tr>\n",
       "      <th>2</th>\n",
       "      <td>Brazil</td>\n",
       "      <td>Serie A</td>\n",
       "      <td>2012</td>\n",
       "      <td>20/05/2012</td>\n",
       "      <td>01:00</td>\n",
       "      <td>Figueirense</td>\n",
       "      <td>Nautico</td>\n",
       "      <td>2.0</td>\n",
       "      <td>1.0</td>\n",
       "      <td>1</td>\n",
       "      <td>1.60</td>\n",
       "      <td>4.04</td>\n",
       "      <td>6.72</td>\n",
       "      <td>1.67</td>\n",
       "      <td>4.05</td>\n",
       "      <td>7.22</td>\n",
       "      <td>1.59</td>\n",
       "      <td>3.67</td>\n",
       "      <td>5.64</td>\n",
       "    </tr>\n",
       "    <tr>\n",
       "      <th>3</th>\n",
       "      <td>Brazil</td>\n",
       "      <td>Serie A</td>\n",
       "      <td>2012</td>\n",
       "      <td>20/05/2012</td>\n",
       "      <td>20:00</td>\n",
       "      <td>Botafogo RJ</td>\n",
       "      <td>Sao Paulo</td>\n",
       "      <td>4.0</td>\n",
       "      <td>2.0</td>\n",
       "      <td>1</td>\n",
       "      <td>2.49</td>\n",
       "      <td>3.35</td>\n",
       "      <td>3.15</td>\n",
       "      <td>2.49</td>\n",
       "      <td>3.39</td>\n",
       "      <td>3.15</td>\n",
       "      <td>2.35</td>\n",
       "      <td>3.26</td>\n",
       "      <td>2.84</td>\n",
       "    </tr>\n",
       "    <tr>\n",
       "      <th>4</th>\n",
       "      <td>Brazil</td>\n",
       "      <td>Serie A</td>\n",
       "      <td>2012</td>\n",
       "      <td>20/05/2012</td>\n",
       "      <td>20:00</td>\n",
       "      <td>Corinthians</td>\n",
       "      <td>Fluminense</td>\n",
       "      <td>0.0</td>\n",
       "      <td>1.0</td>\n",
       "      <td>2</td>\n",
       "      <td>1.96</td>\n",
       "      <td>3.53</td>\n",
       "      <td>4.41</td>\n",
       "      <td>1.96</td>\n",
       "      <td>3.53</td>\n",
       "      <td>4.41</td>\n",
       "      <td>1.89</td>\n",
       "      <td>3.33</td>\n",
       "      <td>3.89</td>\n",
       "    </tr>\n",
       "  </tbody>\n",
       "</table>\n",
       "</div>"
      ],
      "text/plain": [
       "  Country   League  Season        Date   Time          Home         Away   HG  \\\n",
       "0  Brazil  Serie A    2012  19/05/2012  22:30     Palmeiras   Portuguesa  1.0   \n",
       "1  Brazil  Serie A    2012  19/05/2012  22:30  Sport Recife  Flamengo RJ  1.0   \n",
       "2  Brazil  Serie A    2012  20/05/2012  01:00   Figueirense      Nautico  2.0   \n",
       "3  Brazil  Serie A    2012  20/05/2012  20:00   Botafogo RJ    Sao Paulo  4.0   \n",
       "4  Brazil  Serie A    2012  20/05/2012  20:00   Corinthians   Fluminense  0.0   \n",
       "\n",
       "    AG  Res    PH    PD    PA  MaxH  MaxD  MaxA  AvgH  AvgD  AvgA  \n",
       "0  1.0    0  1.75  3.86  5.25  1.76  3.87  5.31  1.69  3.50  4.90  \n",
       "1  1.0    0  2.83  3.39  2.68  2.83  3.42  2.70  2.59  3.23  2.58  \n",
       "2  1.0    1  1.60  4.04  6.72  1.67  4.05  7.22  1.59  3.67  5.64  \n",
       "3  2.0    1  2.49  3.35  3.15  2.49  3.39  3.15  2.35  3.26  2.84  \n",
       "4  1.0    2  1.96  3.53  4.41  1.96  3.53  4.41  1.89  3.33  3.89  "
      ]
     },
     "execution_count": 40,
     "metadata": {},
     "output_type": "execute_result"
    }
   ],
   "source": [
    "data.head()"
   ]
  },
  {
   "cell_type": "markdown",
   "id": "67238c23",
   "metadata": {},
   "source": [
    "Retirar todos os campos não numericos"
   ]
  },
  {
   "cell_type": "code",
   "execution_count": 41,
   "id": "ec266bf4",
   "metadata": {},
   "outputs": [
    {
     "data": {
      "text/html": [
       "<div>\n",
       "<style scoped>\n",
       "    .dataframe tbody tr th:only-of-type {\n",
       "        vertical-align: middle;\n",
       "    }\n",
       "\n",
       "    .dataframe tbody tr th {\n",
       "        vertical-align: top;\n",
       "    }\n",
       "\n",
       "    .dataframe thead th {\n",
       "        text-align: right;\n",
       "    }\n",
       "</style>\n",
       "<table border=\"1\" class=\"dataframe\">\n",
       "  <thead>\n",
       "    <tr style=\"text-align: right;\">\n",
       "      <th></th>\n",
       "      <th>HG</th>\n",
       "      <th>AG</th>\n",
       "      <th>Res</th>\n",
       "      <th>PH</th>\n",
       "      <th>PD</th>\n",
       "      <th>PA</th>\n",
       "      <th>MaxH</th>\n",
       "      <th>MaxD</th>\n",
       "      <th>MaxA</th>\n",
       "      <th>AvgH</th>\n",
       "      <th>AvgD</th>\n",
       "      <th>AvgA</th>\n",
       "    </tr>\n",
       "  </thead>\n",
       "  <tbody>\n",
       "    <tr>\n",
       "      <th>0</th>\n",
       "      <td>1.0</td>\n",
       "      <td>1.0</td>\n",
       "      <td>0</td>\n",
       "      <td>1.75</td>\n",
       "      <td>3.86</td>\n",
       "      <td>5.25</td>\n",
       "      <td>1.76</td>\n",
       "      <td>3.87</td>\n",
       "      <td>5.31</td>\n",
       "      <td>1.69</td>\n",
       "      <td>3.50</td>\n",
       "      <td>4.90</td>\n",
       "    </tr>\n",
       "    <tr>\n",
       "      <th>1</th>\n",
       "      <td>1.0</td>\n",
       "      <td>1.0</td>\n",
       "      <td>0</td>\n",
       "      <td>2.83</td>\n",
       "      <td>3.39</td>\n",
       "      <td>2.68</td>\n",
       "      <td>2.83</td>\n",
       "      <td>3.42</td>\n",
       "      <td>2.70</td>\n",
       "      <td>2.59</td>\n",
       "      <td>3.23</td>\n",
       "      <td>2.58</td>\n",
       "    </tr>\n",
       "    <tr>\n",
       "      <th>2</th>\n",
       "      <td>2.0</td>\n",
       "      <td>1.0</td>\n",
       "      <td>1</td>\n",
       "      <td>1.60</td>\n",
       "      <td>4.04</td>\n",
       "      <td>6.72</td>\n",
       "      <td>1.67</td>\n",
       "      <td>4.05</td>\n",
       "      <td>7.22</td>\n",
       "      <td>1.59</td>\n",
       "      <td>3.67</td>\n",
       "      <td>5.64</td>\n",
       "    </tr>\n",
       "    <tr>\n",
       "      <th>3</th>\n",
       "      <td>4.0</td>\n",
       "      <td>2.0</td>\n",
       "      <td>1</td>\n",
       "      <td>2.49</td>\n",
       "      <td>3.35</td>\n",
       "      <td>3.15</td>\n",
       "      <td>2.49</td>\n",
       "      <td>3.39</td>\n",
       "      <td>3.15</td>\n",
       "      <td>2.35</td>\n",
       "      <td>3.26</td>\n",
       "      <td>2.84</td>\n",
       "    </tr>\n",
       "    <tr>\n",
       "      <th>4</th>\n",
       "      <td>0.0</td>\n",
       "      <td>1.0</td>\n",
       "      <td>2</td>\n",
       "      <td>1.96</td>\n",
       "      <td>3.53</td>\n",
       "      <td>4.41</td>\n",
       "      <td>1.96</td>\n",
       "      <td>3.53</td>\n",
       "      <td>4.41</td>\n",
       "      <td>1.89</td>\n",
       "      <td>3.33</td>\n",
       "      <td>3.89</td>\n",
       "    </tr>\n",
       "  </tbody>\n",
       "</table>\n",
       "</div>"
      ],
      "text/plain": [
       "    HG   AG  Res    PH    PD    PA  MaxH  MaxD  MaxA  AvgH  AvgD  AvgA\n",
       "0  1.0  1.0    0  1.75  3.86  5.25  1.76  3.87  5.31  1.69  3.50  4.90\n",
       "1  1.0  1.0    0  2.83  3.39  2.68  2.83  3.42  2.70  2.59  3.23  2.58\n",
       "2  2.0  1.0    1  1.60  4.04  6.72  1.67  4.05  7.22  1.59  3.67  5.64\n",
       "3  4.0  2.0    1  2.49  3.35  3.15  2.49  3.39  3.15  2.35  3.26  2.84\n",
       "4  0.0  1.0    2  1.96  3.53  4.41  1.96  3.53  4.41  1.89  3.33  3.89"
      ]
     },
     "execution_count": 41,
     "metadata": {},
     "output_type": "execute_result"
    }
   ],
   "source": [
    "num_data = data.drop(['Country', 'League', 'Season', 'Date', 'Time', 'Home', 'Away'], 1)\n",
    "\n",
    "num_data.head()"
   ]
  },
  {
   "cell_type": "markdown",
   "id": "aac09d2e",
   "metadata": {},
   "source": [
    "features"
   ]
  },
  {
   "cell_type": "code",
   "execution_count": 42,
   "id": "7850735d",
   "metadata": {},
   "outputs": [],
   "source": [
    "features = num_data.drop(['Res'], 1)"
   ]
  },
  {
   "cell_type": "code",
   "execution_count": null,
   "id": "fdeae961",
   "metadata": {},
   "outputs": [],
   "source": []
  },
  {
   "cell_type": "code",
   "execution_count": null,
   "id": "185c085a",
   "metadata": {},
   "outputs": [],
   "source": []
  },
  {
   "cell_type": "markdown",
   "id": "d6ccc145",
   "metadata": {},
   "source": []
  }
 ],
 "metadata": {
  "kernelspec": {
   "display_name": "Python 3",
   "language": "python",
   "name": "python3"
  },
  "language_info": {
   "codemirror_mode": {
    "name": "ipython",
    "version": 3
   },
   "file_extension": ".py",
   "mimetype": "text/x-python",
   "name": "python",
   "nbconvert_exporter": "python",
   "pygments_lexer": "ipython3",
   "version": "3.8.8"
  }
 },
 "nbformat": 4,
 "nbformat_minor": 5
}
