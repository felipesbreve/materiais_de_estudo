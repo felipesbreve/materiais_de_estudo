{
 "cells": [
  {
   "cell_type": "code",
   "execution_count": 1,
   "id": "a1ec2fe6",
   "metadata": {},
   "outputs": [],
   "source": [
    "import nltk"
   ]
  },
  {
   "cell_type": "code",
   "execution_count": 2,
   "id": "5c828368",
   "metadata": {},
   "outputs": [],
   "source": [
    "from nltk.chat.util import Chat, reflections"
   ]
  },
  {
   "cell_type": "code",
   "execution_count": 3,
   "id": "4c6a42f0",
   "metadata": {},
   "outputs": [
    {
     "data": {
      "text/plain": [
       "{'i am': 'you are',\n",
       " 'i was': 'you were',\n",
       " 'i': 'you',\n",
       " \"i'm\": 'you are',\n",
       " \"i'd\": 'you would',\n",
       " \"i've\": 'you have',\n",
       " \"i'll\": 'you will',\n",
       " 'my': 'your',\n",
       " 'you are': 'I am',\n",
       " 'you were': 'I was',\n",
       " \"you've\": 'I have',\n",
       " \"you'll\": 'I will',\n",
       " 'your': 'my',\n",
       " 'yours': 'mine',\n",
       " 'you': 'me',\n",
       " 'me': 'you'}"
      ]
     },
     "execution_count": 3,
     "metadata": {},
     "output_type": "execute_result"
    }
   ],
   "source": [
    "reflections"
   ]
  },
  {
   "cell_type": "code",
   "execution_count": 4,
   "id": "7343eda2",
   "metadata": {},
   "outputs": [],
   "source": [
    "reflections_pt = {\n",
    "    'eu': 'você',\n",
    "    'eu sou': 'você é',\n",
    "    'eu era': 'você era',\n",
    "    'eu iria': 'você iria',\n",
    "    'eu irei': 'você irá',\n",
    "    'meu': 'seu',\n",
    "    'você': 'eu',\n",
    "    'você é': 'eu sou',\n",
    "    'você era': 'eu era',\n",
    "    'você irá': 'eu irei',\n",
    "    'seu': 'meu'\n",
    "}"
   ]
  },
  {
   "cell_type": "code",
   "execution_count": 5,
   "id": "628463c6",
   "metadata": {},
   "outputs": [],
   "source": [
    "pares = [\n",
    "    [\n",
    "        r'oi|olá|opa',\n",
    "        ['Olá', 'Como vai?', 'Tudo bem?']\n",
    "    ],\n",
    "    [\n",
    "        r'qual é o seu nome?',\n",
    "        ['Meu nome é Chat e eu sou um chatbot!']\n",
    "    ],\n",
    "    [\n",
    "        r'(.*) idade?',\n",
    "        ['Não tenho idade pois sou um chatbot!']\n",
    "    ],\n",
    "    [\n",
    "        r'meu nome é (.*)',\n",
    "        ['Olá %1, como você está hoje?']\n",
    "    ],\n",
    "    [\n",
    "        r'eu trabalho na empresa (.*)',\n",
    "        ['Conheço a empresa %1']\n",
    "    ],\n",
    "    [\n",
    "        r'(.*) (cidade | estado | país)',\n",
    "        ['Campinas, São Paulo, Brasil']\n",
    "    ],\n",
    "    [\n",
    "        r'quit',\n",
    "        ['Até breve', 'Foi bom conversar com você. Até breve!']\n",
    "    ]\n",
    "]"
   ]
  },
  {
   "cell_type": "code",
   "execution_count": 6,
   "id": "d7fec97d",
   "metadata": {},
   "outputs": [
    {
     "name": "stdout",
     "output_type": "stream",
     "text": [
      "Olá, sou o chat!\n",
      ">quit\n",
      "Foi bom conversar com você. Até breve!\n"
     ]
    }
   ],
   "source": [
    "print('Olá, sou o chat!')\n",
    "chat = Chat(pares, reflections_pt)\n",
    "chat.converse()"
   ]
  },
  {
   "cell_type": "code",
   "execution_count": null,
   "id": "318d1e7a",
   "metadata": {},
   "outputs": [],
   "source": []
  }
 ],
 "metadata": {
  "kernelspec": {
   "display_name": "Python 3",
   "language": "python",
   "name": "python3"
  },
  "language_info": {
   "codemirror_mode": {
    "name": "ipython",
    "version": 3
   },
   "file_extension": ".py",
   "mimetype": "text/x-python",
   "name": "python",
   "nbconvert_exporter": "python",
   "pygments_lexer": "ipython3",
   "version": "3.8.8"
  }
 },
 "nbformat": 4,
 "nbformat_minor": 5
}
